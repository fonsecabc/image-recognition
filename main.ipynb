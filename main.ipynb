{
 "cells": [
  {
   "cell_type": "code",
   "execution_count": 6,
   "metadata": {},
   "outputs": [],
   "source": [
    "import os\n",
    "from dotenv import load_dotenv, find_dotenv\n",
    "from langchain.indexes import VectorstoreIndexCreator\n",
    "from modules.video_extractor import extract_frames_from_video\n",
    "from langchain_community.document_loaders import ImageCaptionLoader\n",
    "\n",
    "load_dotenv(find_dotenv())\n",
    "\n",
    "OPENAI_API_KEY = os.getenv(\"OPENAI_API_KEY\")\n",
    "execution_path = os.getcwd()"
   ]
  },
  {
   "cell_type": "code",
   "execution_count": 15,
   "metadata": {},
   "outputs": [],
   "source": [
    "video_path = os.path.join(execution_path, 'videos/video.mov')\n",
    "output_dir = os.path.join(execution_path, 'videos')\n",
    "frame_rate = 100\n",
    "\n",
    "video_data_path = extract_frames_from_video(video_path, output_dir, frame_rate)\n",
    "if isinstance(video_data_path, Exception):\n",
    "  print(video_data_path)\n",
    "  exit()"
   ]
  },
  {
   "cell_type": "code",
   "execution_count": 19,
   "metadata": {},
   "outputs": [
    {
     "name": "stderr",
     "output_type": "stream",
     "text": [
      "/home/fonsecabc/.local/lib/python3.10/site-packages/transformers/generation/utils.py:1132: UserWarning: Using the model-agnostic default `max_length` (=20) to control the generation length. We recommend setting `max_new_tokens` to control the maximum length of the generation.\n",
      "  warnings.warn(\n"
     ]
    },
    {
     "name": "stdout",
     "output_type": "stream",
     "text": [
      "[Document(page_content='an image of a woman holding a powder powder powder [SEP]', metadata={'image_path': '/home/fonsecabc/brandlovrs/ai/image-recognition/videos/video.mov_data/frame_0.png'}), Document(page_content='an image of a woman with long blonde hair and a yellow sign that says mas meradli', metadata={'image_path': '/home/fonsecabc/brandlovrs/ai/image-recognition/videos/video.mov_data/frame_100.png'})]\n",
      "['/home/fonsecabc/brandlovrs/ai/image-recognition/videos/video.mov_data/frame_0.png', '/home/fonsecabc/brandlovrs/ai/image-recognition/videos/video.mov_data/frame_100.png']\n"
     ]
    }
   ],
   "source": [
    "#image_path = os.path.join(execution_path, 'images/image.png')\n",
    "#loader = ImageCaptionLoader(images=[image_path])\n",
    "\n",
    "images = os.listdir(video_data_path)\n",
    "images_paths = [os.path.join(video_data_path, image) for image in images]\n",
    "loader = ImageCaptionLoader(images_paths)\n",
    "list_docs = loader.load()\n",
    "print(list_docs)\n",
    "print(images_paths)\n"
   ]
  },
  {
   "cell_type": "code",
   "execution_count": 20,
   "metadata": {},
   "outputs": [],
   "source": [
    "index = VectorstoreIndexCreator().from_loaders([loader])"
   ]
  },
  {
   "cell_type": "code",
   "execution_count": 21,
   "metadata": {},
   "outputs": [
    {
     "data": {
      "text/plain": [
       "\" I don't know, as I do not have enough context to accurately describe the conjunction of these frames as a single video.\""
      ]
     },
     "execution_count": 21,
     "metadata": {},
     "output_type": "execute_result"
    }
   ],
   "source": [
    "result = index.query('These images are frames from a video, describre the conjunction of these frames as a single video.')\n",
    "result"
   ]
  }
 ],
 "metadata": {
  "kernelspec": {
   "display_name": "Python 3",
   "language": "python",
   "name": "python3"
  },
  "language_info": {
   "codemirror_mode": {
    "name": "ipython",
    "version": 3
   },
   "file_extension": ".py",
   "mimetype": "text/x-python",
   "name": "python",
   "nbconvert_exporter": "python",
   "pygments_lexer": "ipython3",
   "version": "3.10.12"
  }
 },
 "nbformat": 4,
 "nbformat_minor": 2
}
